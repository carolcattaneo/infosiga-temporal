{
  "cells": [
    {
      "cell_type": "markdown",
      "source": [
        "# 🛵 Análise Temporal de Sinistros - Heatmap Interativo (Infosiga 2022–2025)"
      ],
      "metadata": {
        "id": "eNpOHrJvOavq"
      },
      "id": "eNpOHrJvOavq"
    },
    {
      "cell_type": "markdown",
      "source": [
        "\n",
        "\n",
        "Este notebook realiza uma análise espacial e temporal de sinistros no estado de São Paulo. Os dados são provenientes do portal Infosiga SP e incluem informações detalhadas sobre a ocorrência dos sinistros e os tipos de veículos envolvidos.\n",
        "\n",
        "As etapas contemplam:\n",
        "- Leitura e tratamento dos dados brutos em formato CSV;\n",
        "- Filtragem espacial dos sinistros localizados dentro dos limites do estado de São Paulo;\n",
        "- Junção com a base de veículos para poder filtrar por típo de veículo;\n",
        "- Geração de um **mapa de calor temporal animado** utilizando Folium e GeoPandas.\n",
        "\n",
        "O objetivo é facilitar a visualização da distribuição espaço-temporal desses eventos, contribuindo para análises de segurança viária e planejamento urbano.\n"
      ],
      "metadata": {
        "id": "hU3q5YITOda-"
      },
      "id": "hU3q5YITOda-"
    },
    {
      "cell_type": "markdown",
      "source": [
        "## 📄 Documentação Técnica\n",
        "\n",
        "📁 **Arquivos Utilizados**\n",
        "\n",
        "- `sinistros_2022-2025.csv`: base de dados de sinistros do Infosiga, com coordenadas, tipo de sinistro e data da ocorrência;\n",
        "- `veiculos_2022-2025.csv`: base de veículos envolvidos nos sinistros, com campo de tipo do veículo;\n",
        "- `sp_uf_2023.gpkg`: arquivo vetorial com o limite geográfico do estado de São Paulo (CRS: EPSG:4674).\n",
        "\n",
        "**🔧 Etapas do Processo**\n",
        "\n",
        "1. **Leitura e preparação dos dados**:\n",
        "   - Conversão de coordenadas para `float` e correção de sinais;\n",
        "   - Geração de pontos geográficos (GeoDataFrame);\n",
        "   - Filtragem espacial para manter apenas sinistros ocorridos dentro do estado de SP.\n",
        "\n",
        "2. **Filtragem específica**:\n",
        "   - Seleção por tipo de registro (`SINISTRO FATAL`);\n",
        "   - Foco no município de Campinas;\n",
        "   - Junção com a base de veículos para isolar os casos com `tipo_veiculo = MOTOCICLETA`.\n",
        "\n",
        "3. **Tratamento temporal e visualização**:\n",
        "   - Conversão da data do sinistro para o tipo `datetime`;\n",
        "   - Agrupamento mensal das ocorrências;\n",
        "   - Geração de mapa de calor animado com `HeatMapWithTime` (Folium).\n",
        "\n",
        "🧩 **Personalizações possíveis**\n",
        "\n",
        "- Alterar o município ou período analisado no bloco de filtros;\n",
        "- Trocar o tipo de veículo ou incluir múltiplos;\n",
        "- Adaptar para outras categorias de acidentes (`tipo_acidente_primario`);\n",
        "- Usar um gradiente de cor personalizado para o mapa de calor.\n",
        "\n",
        "**💡 Requisitos**\n",
        "\n",
        "- Python 3.9+ no ambiente do Google Colab\n",
        "- Bibliotecas: `pandas`, `geopandas`, `folium`, `shapely`\n",
        "\n",
        "---\n",
        "\n",
        "Em caso de dúvidas ou para replicar com outros municípios ou tipos de veículos, basta ajustar os filtros nos blocos correspondentes.\n"
      ],
      "metadata": {
        "id": "NjbFz3HlPAtf"
      },
      "id": "NjbFz3HlPAtf"
    },
    {
      "cell_type": "markdown",
      "id": "4007cd06",
      "metadata": {
        "id": "4007cd06"
      },
      "source": [
        "# ✅ Análise Tempora de Sinistros - Mapa Temporal com Folium"
      ]
    },
    {
      "cell_type": "code",
      "execution_count": 25,
      "id": "15eb609a",
      "metadata": {
        "colab": {
          "base_uri": "https://localhost:8080/"
        },
        "id": "15eb609a",
        "outputId": "2526c795-8206-4dd4-e347-66dc74bf2f90"
      },
      "outputs": [
        {
          "output_type": "stream",
          "name": "stdout",
          "text": [
            "Requirement already satisfied: geopandas in /usr/local/lib/python3.11/dist-packages (1.0.1)\n",
            "Requirement already satisfied: folium in /usr/local/lib/python3.11/dist-packages (0.19.5)\n",
            "Requirement already satisfied: numpy>=1.22 in /usr/local/lib/python3.11/dist-packages (from geopandas) (2.0.2)\n",
            "Requirement already satisfied: pyogrio>=0.7.2 in /usr/local/lib/python3.11/dist-packages (from geopandas) (0.10.0)\n",
            "Requirement already satisfied: packaging in /usr/local/lib/python3.11/dist-packages (from geopandas) (24.2)\n",
            "Requirement already satisfied: pandas>=1.4.0 in /usr/local/lib/python3.11/dist-packages (from geopandas) (2.2.2)\n",
            "Requirement already satisfied: pyproj>=3.3.0 in /usr/local/lib/python3.11/dist-packages (from geopandas) (3.7.1)\n",
            "Requirement already satisfied: shapely>=2.0.0 in /usr/local/lib/python3.11/dist-packages (from geopandas) (2.1.0)\n",
            "Requirement already satisfied: branca>=0.6.0 in /usr/local/lib/python3.11/dist-packages (from folium) (0.8.1)\n",
            "Requirement already satisfied: jinja2>=2.9 in /usr/local/lib/python3.11/dist-packages (from folium) (3.1.6)\n",
            "Requirement already satisfied: requests in /usr/local/lib/python3.11/dist-packages (from folium) (2.32.3)\n",
            "Requirement already satisfied: xyzservices in /usr/local/lib/python3.11/dist-packages (from folium) (2025.4.0)\n",
            "Requirement already satisfied: MarkupSafe>=2.0 in /usr/local/lib/python3.11/dist-packages (from jinja2>=2.9->folium) (3.0.2)\n",
            "Requirement already satisfied: python-dateutil>=2.8.2 in /usr/local/lib/python3.11/dist-packages (from pandas>=1.4.0->geopandas) (2.9.0.post0)\n",
            "Requirement already satisfied: pytz>=2020.1 in /usr/local/lib/python3.11/dist-packages (from pandas>=1.4.0->geopandas) (2025.2)\n",
            "Requirement already satisfied: tzdata>=2022.7 in /usr/local/lib/python3.11/dist-packages (from pandas>=1.4.0->geopandas) (2025.2)\n",
            "Requirement already satisfied: certifi in /usr/local/lib/python3.11/dist-packages (from pyogrio>=0.7.2->geopandas) (2025.4.26)\n",
            "Requirement already satisfied: charset-normalizer<4,>=2 in /usr/local/lib/python3.11/dist-packages (from requests->folium) (3.4.1)\n",
            "Requirement already satisfied: idna<4,>=2.5 in /usr/local/lib/python3.11/dist-packages (from requests->folium) (3.10)\n",
            "Requirement already satisfied: urllib3<3,>=1.21.1 in /usr/local/lib/python3.11/dist-packages (from requests->folium) (2.4.0)\n",
            "Requirement already satisfied: six>=1.5 in /usr/local/lib/python3.11/dist-packages (from python-dateutil>=2.8.2->pandas>=1.4.0->geopandas) (1.17.0)\n"
          ]
        }
      ],
      "source": [
        "\n",
        "# Instalar bibliotecas (se necessário)\n",
        "!pip install geopandas folium\n"
      ]
    },
    {
      "cell_type": "markdown",
      "source": [
        "##Filtros"
      ],
      "metadata": {
        "id": "nhbsrUjltQ0h"
      },
      "id": "nhbsrUjltQ0h"
    },
    {
      "cell_type": "code",
      "source": [
        "# 🔧 Parâmetros de análise\n",
        "\n",
        "# Filtros principais\n",
        "municipio_alvo = 'CAMPINAS'\n",
        "tipo_registro_alvo = 'SINISTRO FATAL'\n",
        "tipo_veiculo_alvo = 'MOTOCICLETA'\n",
        "\n",
        "# Ativar ou não filtros opcionais\n",
        "filtrar_por_tipo_via = False\n",
        "tipo_via_alvo = 'VIAS MUNICIPAIS'\n",
        "\n",
        "filtrar_por_mes = False\n",
        "meses_alvo = ['2024/01', '2024/02', '2024/03']\n",
        "\n",
        "filtrar_por_tipo_acidente = False\n",
        "tipo_acidente_alvo = 'ATROPELAMENTO'\n"
      ],
      "metadata": {
        "id": "Q1UCjwyzs1Rb"
      },
      "id": "Q1UCjwyzs1Rb",
      "execution_count": 26,
      "outputs": []
    },
    {
      "cell_type": "markdown",
      "source": [
        "##Processamento"
      ],
      "metadata": {
        "id": "-AKceb8ZtYNM"
      },
      "id": "-AKceb8ZtYNM"
    },
    {
      "cell_type": "markdown",
      "id": "988df77d",
      "metadata": {
        "id": "988df77d"
      },
      "source": [
        "### 1. Montar o Google Drive"
      ]
    },
    {
      "cell_type": "code",
      "execution_count": 27,
      "id": "31fceb2a",
      "metadata": {
        "colab": {
          "base_uri": "https://localhost:8080/"
        },
        "id": "31fceb2a",
        "outputId": "7c5b8209-c81c-404e-8a5e-97291ce488d2"
      },
      "outputs": [
        {
          "output_type": "stream",
          "name": "stdout",
          "text": [
            "Drive already mounted at /content/drive; to attempt to forcibly remount, call drive.mount(\"/content/drive\", force_remount=True).\n"
          ]
        }
      ],
      "source": [
        "\n",
        "from google.colab import drive\n",
        "drive.mount('/content/drive')\n"
      ]
    },
    {
      "cell_type": "markdown",
      "id": "317a365e",
      "metadata": {
        "id": "317a365e"
      },
      "source": [
        "### 2. Importar bibliotecas necessárias"
      ]
    },
    {
      "cell_type": "code",
      "execution_count": 28,
      "id": "791bd5e0",
      "metadata": {
        "id": "791bd5e0"
      },
      "outputs": [],
      "source": [
        "import pandas as pd\n",
        "import geopandas as gpd\n",
        "from shapely.geometry import Point\n",
        "import folium\n",
        "from folium.plugins import TimestampedGeoJson\n",
        "from folium.plugins import HeatMapWithTime"
      ]
    },
    {
      "cell_type": "markdown",
      "id": "c095e0f3",
      "metadata": {
        "id": "c095e0f3"
      },
      "source": [
        "### 3. Ler os dados de sinistros e veículos"
      ]
    },
    {
      "cell_type": "code",
      "execution_count": 29,
      "id": "30c5e08a",
      "metadata": {
        "colab": {
          "base_uri": "https://localhost:8080/"
        },
        "id": "30c5e08a",
        "outputId": "8a570a8a-47a3-4d4a-a112-cc30146a7a23"
      },
      "outputs": [
        {
          "output_type": "stream",
          "name": "stderr",
          "text": [
            "<ipython-input-29-75622110284b>:19: DeprecationWarning: The 'unary_union' attribute is deprecated, use the 'union_all()' method instead.\n",
            "  gdf = gdf[gdf.within(estado_sp.unary_union)]\n"
          ]
        }
      ],
      "source": [
        "\n",
        "# Ajuste os caminhos conforme sua estrutura no Drive\n",
        "caminho_csv_sinistros = '/content/drive/MyDrive/Analises_DETRAN/infosiga-temporal/sinistros_2022-2025.csv'\n",
        "caminho_csv_veiculos = '/content/drive/MyDrive/Analises_DETRAN/infosiga-temporal/veiculos_2022-2025.csv'\n",
        "caminho_sp = 'https://github.com/carolcattaneo/infosiga-temporal/raw/refs/heads/main/SP_UF_2023.gpkg'\n",
        "\n",
        "# Lê os dados de sinistros\n",
        "df = pd.read_csv(caminho_csv_sinistros, sep=';', encoding='latin1')\n",
        "df['lat'] = pd.to_numeric(df['lat'], errors='coerce')\n",
        "df['long'] = pd.to_numeric(df['long'], errors='coerce')\n",
        "df['lat'] = df['lat'].apply(lambda x: -abs(x) if x > 0 else x)\n",
        "df['long'] = df['long'].apply(lambda x: -abs(x) if x > 0 else x)\n",
        "df = df.dropna(subset=['lat', 'long'])\n",
        "geometry = [Point(xy) for xy in zip(df['long'], df['lat'])]\n",
        "gdf = gpd.GeoDataFrame(df, geometry=geometry, crs='EPSG:4326')\n",
        "\n",
        "# Filtra pelo estado de São Paulo\n",
        "estado_sp = gpd.read_file(caminho_sp)\n",
        "estado_sp = estado_sp.to_crs(gdf.crs)\n",
        "gdf = gdf[gdf.within(estado_sp.unary_union)]\n"
      ]
    },
    {
      "cell_type": "markdown",
      "id": "deb65a4f",
      "metadata": {
        "id": "deb65a4f"
      },
      "source": [
        "### 4. Aplicar filtros iniciais nos sinistros"
      ]
    },
    {
      "cell_type": "code",
      "source": [
        "# Explora os valores únicos de colunas-chave\n",
        "print(\"Valores únicos de 'tipo_registro':\")\n",
        "print(gdf['tipo_registro'].unique())\n",
        "\n",
        "print(\"\\nValores únicos de 'ano_mes_sinistro':\")\n",
        "print(gdf['ano_mes_sinistro'].unique())\n",
        "\n",
        "print(\"\\nValores únicos de 'tipo_via':\")\n",
        "print(gdf['tipo_via'].unique())\n",
        "\n",
        "print(\"\\nValores únicos de 'tipo_acidente_primario':\")\n",
        "print(gdf['tipo_acidente_primario'].unique())"
      ],
      "metadata": {
        "colab": {
          "base_uri": "https://localhost:8080/"
        },
        "id": "bSPV1CrDPy_x",
        "outputId": "04a67fde-db30-43b6-8033-f09d0b9144f2"
      },
      "id": "bSPV1CrDPy_x",
      "execution_count": 30,
      "outputs": [
        {
          "output_type": "stream",
          "name": "stdout",
          "text": [
            "Valores únicos de 'tipo_registro':\n",
            "['NOTIFICACAO' 'SINISTRO FATAL' 'SINISTRO NAO FATAL']\n",
            "\n",
            "Valores únicos de 'ano_mes_sinistro':\n",
            "['2022/01' '2022/02' '2022/03' '2022/04' '2022/05' '2022/06' '2022/07'\n",
            " '2022/08' '2022/09' '2022/10' '2022/11' '2022/12' '2023/01' '2023/02'\n",
            " '2023/03' '2023/04' '2023/05' '2023/06' '2023/07' '2023/08' '2023/09'\n",
            " '2023/10' '2023/11' '2023/12' '2024/01' '2024/02' '2024/03' '2024/04'\n",
            " '2024/05' '2024/06' '2024/07' '2024/08' '2024/09' '2024/10' '2024/11'\n",
            " '2024/12' '2025/01' '2025/02' '2025/03']\n",
            "\n",
            "Valores únicos de 'tipo_via':\n",
            "['VIAS MUNICIPAIS' 'RODOVIAS' 'NAO DISPONIVEL']\n",
            "\n",
            "Valores únicos de 'tipo_acidente_primario':\n",
            "['OUTROS' 'CHOQUE' 'ATROPELAMENTO' 'COLISAO' 'NAO DISPONIVEL']\n"
          ]
        }
      ]
    },
    {
      "cell_type": "code",
      "execution_count": 31,
      "id": "cd6eca97",
      "metadata": {
        "id": "cd6eca97"
      },
      "outputs": [],
      "source": [
        "# Filtros no gdf (sinistros)\n",
        "\n",
        "filtros = (\n",
        "    (gdf['tipo_registro'] == tipo_registro_alvo) &\n",
        "    (gdf['municipio'].str.upper() == municipio_alvo.upper())\n",
        ")\n",
        "\n",
        "if filtrar_por_mes:\n",
        "    filtros &= gdf['ano_mes_sinistro'].isin(meses_alvo)\n",
        "\n",
        "if filtrar_por_tipo_via:\n",
        "    filtros &= gdf['tipo_via'] == tipo_via_alvo\n",
        "\n",
        "if filtrar_por_tipo_acidente:\n",
        "    filtros &= gdf['tipo_acidente_primario'] == tipo_acidente_alvo\n",
        "\n",
        "gdf_filtrado = gdf[filtros]"
      ]
    },
    {
      "cell_type": "markdown",
      "id": "967b8a96",
      "metadata": {
        "id": "967b8a96"
      },
      "source": [
        "### 5. Cruzar com dados de veículos e filtrar por tipo de veículo"
      ]
    },
    {
      "cell_type": "code",
      "execution_count": 32,
      "id": "d6a901b6",
      "metadata": {
        "id": "d6a901b6"
      },
      "outputs": [],
      "source": [
        "\n",
        "veiculos_df = pd.read_csv(caminho_csv_veiculos, sep=';', encoding='latin1')\n",
        "gdf_veiculos = gdf_filtrado.merge(veiculos_df[['id_sinistro', 'tipo_veiculo']], on='id_sinistro', how='inner')\n",
        "gdf_tipo_veiculo = gdf_veiculos[gdf_veiculos['tipo_veiculo'].str.upper() == tipo_veiculo_alvo.upper()]\n",
        "# Tipos disponíveis: 'AUTOMOVEL', 'BICICLETA', 'CAMINHAO', 'MOTOCICLETA', 'NAO DISPONIVEL', 'ONIBUS', 'OUTROS'"
      ]
    },
    {
      "cell_type": "markdown",
      "id": "7f6b619d",
      "metadata": {
        "id": "7f6b619d"
      },
      "source": [
        "### 6. Preparar campo de data para animação"
      ]
    },
    {
      "cell_type": "code",
      "execution_count": 35,
      "id": "29de69f8",
      "metadata": {
        "colab": {
          "base_uri": "https://localhost:8080/"
        },
        "id": "29de69f8",
        "outputId": "4080d7cb-8275-4e9b-d694-14d7cae87dfe"
      },
      "outputs": [
        {
          "output_type": "stream",
          "name": "stderr",
          "text": [
            "<ipython-input-35-62ae11d5702c>:1: UserWarning: Parsing dates in %d/%m/%Y format when dayfirst=False (the default) was specified. Pass `dayfirst=True` or specify a format to silence this warning.\n",
            "  gdf_tipo_veiculo['data_sinistro'] = pd.to_datetime(gdf_tipo_veiculo['data_sinistro'], errors='coerce')\n",
            "/usr/local/lib/python3.11/dist-packages/geopandas/geodataframe.py:1819: SettingWithCopyWarning: \n",
            "A value is trying to be set on a copy of a slice from a DataFrame.\n",
            "Try using .loc[row_indexer,col_indexer] = value instead\n",
            "\n",
            "See the caveats in the documentation: https://pandas.pydata.org/pandas-docs/stable/user_guide/indexing.html#returning-a-view-versus-a-copy\n",
            "  super().__setitem__(key, value)\n"
          ]
        }
      ],
      "source": [
        "\n",
        "gdf_tipo_veiculo['data_sinistro'] = pd.to_datetime(gdf_tipo_veiculo['data_sinistro'], errors='coerce')\n"
      ]
    },
    {
      "cell_type": "markdown",
      "id": "f27ffb2d",
      "metadata": {
        "id": "f27ffb2d"
      },
      "source": [
        "### 7. Criar GeoJSON temporal para o mapa"
      ]
    },
    {
      "cell_type": "code",
      "execution_count": 37,
      "id": "60e85a0b",
      "metadata": {
        "id": "60e85a0b"
      },
      "outputs": [],
      "source": [
        "\n",
        "features = []\n",
        "for _, row in gdf_tipo_veiculo.iterrows():\n",
        "    if pd.notnull(row['data_sinistro']):\n",
        "        features.append({\n",
        "            'type': 'Feature',\n",
        "            'geometry': row['geometry'].__geo_interface__,\n",
        "            'properties': {\n",
        "                'time': row['data_sinistro'].isoformat(),\n",
        "                'popup': f\"Data: {row['data_sinistro'].date()}<br>Tipo: {row['tipo_acidente_primario']}\"\n",
        "            }\n",
        "        })\n",
        "\n",
        "geojson = {\n",
        "    'type': 'FeatureCollection',\n",
        "    'features': features\n",
        "}\n"
      ]
    },
    {
      "cell_type": "markdown",
      "id": "90577277",
      "metadata": {
        "id": "90577277"
      },
      "source": [
        "## Criar o mapa interativo com controle temporal"
      ]
    },
    {
      "cell_type": "code",
      "source": [
        "from folium.plugins import HeatMapWithTime\n",
        "import folium\n",
        "\n",
        "# 8.1 Garante que a data está no formato correto\n",
        "gdf = gdf_tipo_veiculo.dropna(subset=['data_sinistro', 'geometry']).copy()\n",
        "gdf['ano_mes'] = gdf['data_sinistro'].dt.to_period('M')\n",
        "\n",
        "# 8.2 Ordena os períodos únicos\n",
        "periodos = sorted(gdf['ano_mes'].unique())\n",
        "\n",
        "# 8.3 Agrupa as coordenadas por mês\n",
        "heat_data = []\n",
        "for periodo in periodos:\n",
        "    grupo = gdf[gdf['ano_mes'] == periodo]\n",
        "    coords = [[row.geometry.y, row.geometry.x] for row in grupo.itertuples() if row.geometry is not None]\n",
        "    heat_data.append(coords)\n",
        "\n",
        "# 8.4 Cria o mapa centralizado no centroide dos dados\n",
        "centro = gdf.geometry.unary_union.centroid\n",
        "m = folium.Map(location=[centro.y, centro.x], zoom_start=12)\n",
        "\n",
        "# 8.5 Adiciona o mapa de calor com controle temporal\n",
        "HeatMapWithTime(\n",
        "    data=heat_data,\n",
        "    index=[str(p) for p in periodos],\n",
        "    auto_play=False,\n",
        "    max_opacity=0.65,\n",
        "    radius=20,\n",
        "    use_local_extrema=True,\n",
        "    # gradient=viridis_gradient  # descomente se quiser usar gradiente personalizado\n",
        ").add_to(m)\n",
        "\n",
        "# 8.6 Salva como HTML\n",
        "m.save('heatmap_temporal_mensal.html')\n",
        "\n",
        "# Para exibir diretamente no notebook (opcional)\n",
        "m\n"
      ],
      "metadata": {
        "colab": {
          "base_uri": "https://localhost:8080/",
          "height": 572
        },
        "id": "o1c0h1CJ0XJu",
        "outputId": "3af1ecd6-9639-43c4-a5c5-e2eb24d84ff4"
      },
      "execution_count": 38,
      "outputs": [
        {
          "output_type": "stream",
          "name": "stderr",
          "text": [
            "<ipython-input-38-1c7e4458a640>:19: DeprecationWarning: The 'unary_union' attribute is deprecated, use the 'union_all()' method instead.\n",
            "  centro = gdf.geometry.unary_union.centroid\n"
          ]
        },
        {
          "output_type": "execute_result",
          "data": {
            "text/plain": [
              "<folium.folium.Map at 0x7ccdbf87bf50>"
            ],
            "text/html": [
              "<div style=\"width:100%;\"><div style=\"position:relative;width:100%;height:0;padding-bottom:60%;\"><span style=\"color:#565656\">Make this Notebook Trusted to load map: File -> Trust Notebook</span><iframe srcdoc=\"&lt;!DOCTYPE html&gt;\n",
              "&lt;html&gt;\n",
              "&lt;head&gt;\n",
              "    \n",
              "    &lt;meta http-equiv=&quot;content-type&quot; content=&quot;text/html; charset=UTF-8&quot; /&gt;\n",
              "    \n",
              "        &lt;script&gt;\n",
              "            L_NO_TOUCH = false;\n",
              "            L_DISABLE_3D = false;\n",
              "        &lt;/script&gt;\n",
              "    \n",
              "    &lt;style&gt;html, body {width: 100%;height: 100%;margin: 0;padding: 0;}&lt;/style&gt;\n",
              "    &lt;style&gt;#map {position:absolute;top:0;bottom:0;right:0;left:0;}&lt;/style&gt;\n",
              "    &lt;script src=&quot;https://cdn.jsdelivr.net/npm/leaflet@1.9.3/dist/leaflet.js&quot;&gt;&lt;/script&gt;\n",
              "    &lt;script src=&quot;https://code.jquery.com/jquery-3.7.1.min.js&quot;&gt;&lt;/script&gt;\n",
              "    &lt;script src=&quot;https://cdn.jsdelivr.net/npm/bootstrap@5.2.2/dist/js/bootstrap.bundle.min.js&quot;&gt;&lt;/script&gt;\n",
              "    &lt;script src=&quot;https://cdnjs.cloudflare.com/ajax/libs/Leaflet.awesome-markers/2.0.2/leaflet.awesome-markers.js&quot;&gt;&lt;/script&gt;\n",
              "    &lt;link rel=&quot;stylesheet&quot; href=&quot;https://cdn.jsdelivr.net/npm/leaflet@1.9.3/dist/leaflet.css&quot;/&gt;\n",
              "    &lt;link rel=&quot;stylesheet&quot; href=&quot;https://cdn.jsdelivr.net/npm/bootstrap@5.2.2/dist/css/bootstrap.min.css&quot;/&gt;\n",
              "    &lt;link rel=&quot;stylesheet&quot; href=&quot;https://netdna.bootstrapcdn.com/bootstrap/3.0.0/css/bootstrap-glyphicons.css&quot;/&gt;\n",
              "    &lt;link rel=&quot;stylesheet&quot; href=&quot;https://cdn.jsdelivr.net/npm/@fortawesome/fontawesome-free@6.2.0/css/all.min.css&quot;/&gt;\n",
              "    &lt;link rel=&quot;stylesheet&quot; href=&quot;https://cdnjs.cloudflare.com/ajax/libs/Leaflet.awesome-markers/2.0.2/leaflet.awesome-markers.css&quot;/&gt;\n",
              "    &lt;link rel=&quot;stylesheet&quot; href=&quot;https://cdn.jsdelivr.net/gh/python-visualization/folium/folium/templates/leaflet.awesome.rotate.min.css&quot;/&gt;\n",
              "    \n",
              "            &lt;meta name=&quot;viewport&quot; content=&quot;width=device-width,\n",
              "                initial-scale=1.0, maximum-scale=1.0, user-scalable=no&quot; /&gt;\n",
              "            &lt;style&gt;\n",
              "                #map_ba3b933f8b1358da5f2352319beabdbf {\n",
              "                    position: relative;\n",
              "                    width: 100.0%;\n",
              "                    height: 100.0%;\n",
              "                    left: 0.0%;\n",
              "                    top: 0.0%;\n",
              "                }\n",
              "                .leaflet-container { font-size: 1rem; }\n",
              "            &lt;/style&gt;\n",
              "        \n",
              "    &lt;script src=&quot;https://cdn.jsdelivr.net/npm/iso8601-js-period@0.2.1/iso8601.min.js&quot;&gt;&lt;/script&gt;\n",
              "    &lt;script src=&quot;https://cdn.jsdelivr.net/npm/leaflet-timedimension@1.1.1/dist/leaflet.timedimension.min.js&quot;&gt;&lt;/script&gt;\n",
              "    &lt;script src=&quot;https://cdn.jsdelivr.net/gh/python-visualization/folium/folium/templates/pa7_hm.min.js&quot;&gt;&lt;/script&gt;\n",
              "    &lt;script src=&quot;https://cdn.jsdelivr.net/gh/python-visualization/folium/folium/templates/pa7_leaflet_hm.min.js&quot;&gt;&lt;/script&gt;\n",
              "    &lt;link rel=&quot;stylesheet&quot; href=&quot;https://cdn.jsdelivr.net/npm/leaflet-timedimension@1.1.1/dist/leaflet.timedimension.control.css&quot;/&gt;\n",
              "    \n",
              "            &lt;script&gt;\n",
              "                var TDHeatmap = L.TimeDimension.Layer.extend({\n",
              "\n",
              "            initialize: function(data, options) {\n",
              "                var heatmapCfg = {\n",
              "                    radius: 15,\n",
              "                    blur: 0.8,\n",
              "                    maxOpacity: 1.,\n",
              "                    scaleRadius: false,\n",
              "                    useLocalExtrema: false,\n",
              "                    latField: &#x27;lat&#x27;,\n",
              "                    lngField: &#x27;lng&#x27;,\n",
              "                    valueField: &#x27;count&#x27;,\n",
              "                    defaultWeight : 1,\n",
              "                };\n",
              "                heatmapCfg = $.extend({}, heatmapCfg, options.heatmapOptions || {});\n",
              "                var layer = new HeatmapOverlay(heatmapCfg);\n",
              "                L.TimeDimension.Layer.prototype.initialize.call(this, layer, options);\n",
              "                this._currentLoadedTime = 0;\n",
              "                this._currentTimeData = {\n",
              "                    data: []\n",
              "                    };\n",
              "                this.data= data;\n",
              "                this.defaultWeight = heatmapCfg.defaultWeight || 1;\n",
              "            },\n",
              "            onAdd: function(map) {\n",
              "                L.TimeDimension.Layer.prototype.onAdd.call(this, map);\n",
              "                map.addLayer(this._baseLayer);\n",
              "                if (this._timeDimension) {\n",
              "                    this._getDataForTime(this._timeDimension.getCurrentTime());\n",
              "                }\n",
              "            },\n",
              "            _onNewTimeLoading: function(ev) {\n",
              "                this._getDataForTime(ev.time);\n",
              "                return;\n",
              "            },\n",
              "            isReady: function(time) {\n",
              "                return (this._currentLoadedTime == time);\n",
              "            },\n",
              "            _update: function() {\n",
              "                this._baseLayer.setData(this._currentTimeData);\n",
              "                return true;\n",
              "            },\n",
              "            _getDataForTime: function(time) {\n",
              "                    delete this._currentTimeData.data;\n",
              "                    this._currentTimeData.data = [];\n",
              "                    var data = this.data[time-1];\n",
              "                    for (var i = 0; i &lt; data.length; i++) {\n",
              "                        this._currentTimeData.data.push({\n",
              "                                lat: data[i][0],\n",
              "                                lng: data[i][1],\n",
              "                                count: data[i].length&gt;2 ? data[i][2] : this.defaultWeight\n",
              "                            });\n",
              "                        }\n",
              "                    this._currentLoadedTime = time;\n",
              "                    if (this._timeDimension &amp;&amp; time == this._timeDimension.getCurrentTime() &amp;&amp; !this._timeDimension.isLoading()) {\n",
              "                        this._update();\n",
              "                    }\n",
              "                    this.fire(&#x27;timeload&#x27;, {\n",
              "                        time: time\n",
              "                    });\n",
              "                }\n",
              "        });\n",
              "\n",
              "        L.Control.TimeDimensionCustom = L.Control.TimeDimension.extend({\n",
              "            initialize: function(index, options) {\n",
              "                var playerOptions = {\n",
              "                    buffer: 1,\n",
              "                    minBufferReady: -1\n",
              "                    };\n",
              "                options.playerOptions = $.extend({}, playerOptions, options.playerOptions || {});\n",
              "                L.Control.TimeDimension.prototype.initialize.call(this, options);\n",
              "                this.index = index;\n",
              "                },\n",
              "            _getDisplayDateFormat: function(date){\n",
              "                return this.index[date.getTime()-1];\n",
              "                }\n",
              "            });\n",
              "            &lt;/script&gt;\n",
              "                \n",
              "    \n",
              "            &lt;script&gt;\n",
              "                var TDHeatmap = L.TimeDimension.Layer.extend({\n",
              "\n",
              "            initialize: function(data, options) {\n",
              "                var heatmapCfg = {\n",
              "                    radius: 15,\n",
              "                    blur: 0.8,\n",
              "                    maxOpacity: 1.,\n",
              "                    scaleRadius: false,\n",
              "                    useLocalExtrema: false,\n",
              "                    latField: &#x27;lat&#x27;,\n",
              "                    lngField: &#x27;lng&#x27;,\n",
              "                    valueField: &#x27;count&#x27;,\n",
              "                    defaultWeight : 1,\n",
              "                };\n",
              "                heatmapCfg = $.extend({}, heatmapCfg, options.heatmapOptions || {});\n",
              "                var layer = new HeatmapOverlay(heatmapCfg);\n",
              "                L.TimeDimension.Layer.prototype.initialize.call(this, layer, options);\n",
              "                this._currentLoadedTime = 0;\n",
              "                this._currentTimeData = {\n",
              "                    data: []\n",
              "                    };\n",
              "                this.data= data;\n",
              "                this.defaultWeight = heatmapCfg.defaultWeight || 1;\n",
              "            },\n",
              "            onAdd: function(map) {\n",
              "                L.TimeDimension.Layer.prototype.onAdd.call(this, map);\n",
              "                map.addLayer(this._baseLayer);\n",
              "                if (this._timeDimension) {\n",
              "                    this._getDataForTime(this._timeDimension.getCurrentTime());\n",
              "                }\n",
              "            },\n",
              "            _onNewTimeLoading: function(ev) {\n",
              "                this._getDataForTime(ev.time);\n",
              "                return;\n",
              "            },\n",
              "            isReady: function(time) {\n",
              "                return (this._currentLoadedTime == time);\n",
              "            },\n",
              "            _update: function() {\n",
              "                this._baseLayer.setData(this._currentTimeData);\n",
              "                return true;\n",
              "            },\n",
              "            _getDataForTime: function(time) {\n",
              "                    delete this._currentTimeData.data;\n",
              "                    this._currentTimeData.data = [];\n",
              "                    var data = this.data[time-1];\n",
              "                    for (var i = 0; i &lt; data.length; i++) {\n",
              "                        this._currentTimeData.data.push({\n",
              "                                lat: data[i][0],\n",
              "                                lng: data[i][1],\n",
              "                                count: data[i].length&gt;2 ? data[i][2] : this.defaultWeight\n",
              "                            });\n",
              "                        }\n",
              "                    this._currentLoadedTime = time;\n",
              "                    if (this._timeDimension &amp;&amp; time == this._timeDimension.getCurrentTime() &amp;&amp; !this._timeDimension.isLoading()) {\n",
              "                        this._update();\n",
              "                    }\n",
              "                    this.fire(&#x27;timeload&#x27;, {\n",
              "                        time: time\n",
              "                    });\n",
              "                }\n",
              "        });\n",
              "\n",
              "        L.Control.TimeDimensionCustom = L.Control.TimeDimension.extend({\n",
              "            initialize: function(index, options) {\n",
              "                var playerOptions = {\n",
              "                    buffer: 1,\n",
              "                    minBufferReady: -1\n",
              "                    };\n",
              "                options.playerOptions = $.extend({}, playerOptions, options.playerOptions || {});\n",
              "                L.Control.TimeDimension.prototype.initialize.call(this, options);\n",
              "                this.index = index;\n",
              "                },\n",
              "            _getDisplayDateFormat: function(date){\n",
              "                return this.index[date.getTime()-1];\n",
              "                }\n",
              "            });\n",
              "            &lt;/script&gt;\n",
              "                \n",
              "&lt;/head&gt;\n",
              "&lt;body&gt;\n",
              "    \n",
              "    \n",
              "            &lt;div class=&quot;folium-map&quot; id=&quot;map_ba3b933f8b1358da5f2352319beabdbf&quot; &gt;&lt;/div&gt;\n",
              "        \n",
              "&lt;/body&gt;\n",
              "&lt;script&gt;\n",
              "    \n",
              "    \n",
              "            var map_ba3b933f8b1358da5f2352319beabdbf = L.map(\n",
              "                &quot;map_ba3b933f8b1358da5f2352319beabdbf&quot;,\n",
              "                {\n",
              "                    center: [-22.92041158063374, -47.100861179520855],\n",
              "                    crs: L.CRS.EPSG3857,\n",
              "                    ...{\n",
              "  &quot;zoom&quot;: 12,\n",
              "  &quot;zoomControl&quot;: true,\n",
              "  &quot;preferCanvas&quot;: false,\n",
              "}\n",
              "\n",
              "                }\n",
              "            );\n",
              "\n",
              "            \n",
              "\n",
              "        \n",
              "    \n",
              "            var tile_layer_2791706d009b2e5e6fae7c1f1587eea3 = L.tileLayer(\n",
              "                &quot;https://tile.openstreetmap.org/{z}/{x}/{y}.png&quot;,\n",
              "                {\n",
              "  &quot;minZoom&quot;: 0,\n",
              "  &quot;maxZoom&quot;: 19,\n",
              "  &quot;maxNativeZoom&quot;: 19,\n",
              "  &quot;noWrap&quot;: false,\n",
              "  &quot;attribution&quot;: &quot;\\u0026copy; \\u003ca href=\\&quot;https://www.openstreetmap.org/copyright\\&quot;\\u003eOpenStreetMap\\u003c/a\\u003e contributors&quot;,\n",
              "  &quot;subdomains&quot;: &quot;abc&quot;,\n",
              "  &quot;detectRetina&quot;: false,\n",
              "  &quot;tms&quot;: false,\n",
              "  &quot;opacity&quot;: 1,\n",
              "}\n",
              "\n",
              "            );\n",
              "        \n",
              "    \n",
              "            tile_layer_2791706d009b2e5e6fae7c1f1587eea3.addTo(map_ba3b933f8b1358da5f2352319beabdbf);\n",
              "        \n",
              "    \n",
              "\n",
              "            var times = [1, 2, 3, 4, 5, 6, 7, 8, 9, 10, 11, 12, 13, 14, 15, 16, 17, 18, 19, 20, 21, 22, 23, 24, 25, 26, 27, 28, 29, 30, 31, 32, 33, 34, 35, 36, 37, 38];\n",
              "\n",
              "            map_ba3b933f8b1358da5f2352319beabdbf.timeDimension = L.timeDimension(\n",
              "                {times : times, currentTime: new Date(1)}\n",
              "            );\n",
              "\n",
              "            var heat_map_d45d3b21e7002067854fc727b02ff888Control = new L.Control.TimeDimensionCustom([&#x27;2022-01&#x27;, &#x27;2022-02&#x27;, &#x27;2022-03&#x27;, &#x27;2022-04&#x27;, &#x27;2022-05&#x27;, &#x27;2022-06&#x27;, &#x27;2022-07&#x27;, &#x27;2022-09&#x27;, &#x27;2022-10&#x27;, &#x27;2022-11&#x27;, &#x27;2022-12&#x27;, &#x27;2023-01&#x27;, &#x27;2023-02&#x27;, &#x27;2023-03&#x27;, &#x27;2023-04&#x27;, &#x27;2023-05&#x27;, &#x27;2023-06&#x27;, &#x27;2023-07&#x27;, &#x27;2023-08&#x27;, &#x27;2023-09&#x27;, &#x27;2023-10&#x27;, &#x27;2023-11&#x27;, &#x27;2023-12&#x27;, &#x27;2024-01&#x27;, &#x27;2024-02&#x27;, &#x27;2024-03&#x27;, &#x27;2024-04&#x27;, &#x27;2024-05&#x27;, &#x27;2024-06&#x27;, &#x27;2024-07&#x27;, &#x27;2024-08&#x27;, &#x27;2024-09&#x27;, &#x27;2024-10&#x27;, &#x27;2024-11&#x27;, &#x27;2024-12&#x27;, &#x27;2025-01&#x27;, &#x27;2025-02&#x27;, &#x27;2025-03&#x27;], {\n",
              "                autoPlay: false,\n",
              "                backwardButton: true,\n",
              "                displayDate: true,\n",
              "                forwardButton: true,\n",
              "                limitMinimumRange: 5,\n",
              "                limitSliders: true,\n",
              "                loopButton: true,\n",
              "                maxSpeed: 10,\n",
              "                minSpeed: 0.1,\n",
              "                playButton: true,\n",
              "                playReverseButton: true,\n",
              "                position: &quot;bottomleft&quot;,\n",
              "                speedSlider: true,\n",
              "                speedStep: 0.1,\n",
              "                styleNS: &quot;leaflet-control-timecontrol&quot;,\n",
              "                timeSlider: true,\n",
              "                timeSliderDragUpdate: false,\n",
              "                timeSteps: 1\n",
              "                })\n",
              "                .addTo(map_ba3b933f8b1358da5f2352319beabdbf);\n",
              "\n",
              "                var heat_map_d45d3b21e7002067854fc727b02ff888 = new TDHeatmap([[[-22.8992613355, -47.1174264997]], [[-22.9091453857, -47.0527041529], [-22.9232493108, -47.1068947992]], [[-22.9828370061, -47.1057443318], [-22.918344989, -47.1067042685], [-22.9151976757, -47.0643765867]], [[-22.9369870403, -47.1300941104]], [[-23.004958308, -47.096753881], [-22.7591592253, -47.0591537863]], [[-22.9265716593, -47.1190052114], [-22.7455798971, -47.0198025352], [-22.9730958402, -47.0493348103], [-23.0105407955, -47.1156268537], [-22.8595208032, -47.1439152362], [-23.0401779386, -47.1269663424], [-22.9143235732, -47.0835200059], [-22.9395090964, -47.1034192356]], [[-22.9319912693, -47.1298862437], [-22.9949717386, -47.1064885001], [-22.8897853221, -47.1411946474], [-22.9107722825, -47.1686790942], [-22.8609003784, -47.1415111243], [-22.93551122, -47.13848367], [-22.8937645406, -47.1325179555], [-22.9125804224, -47.0994277323], [-22.9125804224, -47.0994277323]], [[-22.902319555, -47.0680519098], [-22.8932615338, -47.1343495002], [-22.940043821, -47.152830844], [-22.9326867, -47.0316013], [-23.0233274899, -47.1246301553], [-23.0321505138, -47.1213720324], [-23.0321505138, -47.1213720324]], [[-22.9097856292, -47.0590983528], [-22.8648518795, -47.1348464272], [-22.8990834, -47.1131823]], [[-23.0137967028, -47.1173756987], [-22.9233786224, -47.1310228748]], [[-22.9876595568, -47.1067285848], [-22.8598067678, -47.1434402455], [-22.9700749123, -47.0510398592], [-22.8923921078, -47.1360605943], [-22.8971419774, -47.1216939511], [-22.9389707284, -47.1674312865], [-22.8876122253, -47.1454726309]], [[-22.9546716128, -47.115720393], [-22.9668991093, -47.1067763281], [-23.0022445417, -47.1115727591]], [[-22.999353538, -47.1019722865], [-22.8429115715, -47.1559003288], [-22.8643637085, -47.1353454717], [-23.0113532454, -47.1160668914], [-22.9416881565, -47.051607502]], [[-22.9085246896, -47.1038871574], [-22.9252712755, -47.1271963135], [-22.9491060777, -47.1335370275], [-22.8550819548, -47.1300477865]], [[-22.9138509516, -47.0995497062]], [[-22.9103819778, -47.1022487902], [-22.9103819778, -47.1022487902], [-22.8517644593, -47.1140029516], [-22.9169085479, -47.0436482665]], [[-22.8902197864, -47.1403389718], [-22.856127164, -47.1497318182], [-22.8435344451, -47.065874286], [-22.946101188, -47.0515457003], [-23.0371113098, -47.1165397847]], [[-22.8624905079, -47.1386524855], [-23.0440581274, -47.1037524878], [-23.0297396906, -47.1299928354], [-23.0297396906, -47.1299928354], [-22.8632232585, -47.1027341539], [-22.7543194023, -47.0205759894], [-22.9739274606, -47.1026582475], [-22.9739274606, -47.1026582475], [-22.9739274606, -47.1026582475], [-22.9739274606, -47.1026582475], [-22.9739274606, -47.1026582475], [-22.9739274606, -47.1026582475], [-22.9739274606, -47.1026582475], [-23.0395735906, -47.1351726327], [-22.940704139, -47.1424217459]], [[-22.9842758669, -47.1054750563], [-22.9397880888, -47.1121774275], [-22.9097437274, -47.0923966268], [-22.8977625652, -47.0428953644], [-22.8784435259, -46.9667098841], [-23.0270714895, -47.1227627313], [-22.7543194023, -47.0205759894], [-22.8511424289, -47.110994545], [-22.8453780256, -47.0797915307]], [[-22.9832180756, -47.1391340135], [-22.9516573278, -47.1898520337], [-22.9310768564, -47.0767842905], [-23.0022445417, -47.1115727591], [-22.8544440794, -47.1110710356], [-23.0375517051, -47.1075091326], [-23.0375517051, -47.1075091326]], [[-22.8991413855, -47.0625986754], [-22.8459881971, -47.0613101301], [-23.0278653316, -47.1284280221], [-22.9088999616, -47.0747776676], [-22.8897212553, -47.0455308755], [-22.9546216339, -47.1155965478]], [[-22.9376022163, -47.0107440751], [-22.9372117231, -47.0697724309], [-22.8511424289, -47.110994545]], [[-23.0146090981, -47.117815828], [-22.8151957285, -47.0806391675], [-22.8519718028, -47.1150057537], [-22.9364620823, -47.0996670219], [-22.8768613295, -47.1212311782], [-22.9081280918, -47.104217145], [-22.9264392593, -47.0380495423]], [[-22.8539797209, -47.0746845682], [-22.7954936591, -47.0321431809], [-22.9739274606, -47.1026582475], [-22.8582877828, -47.043982845]], [[-22.9463661301, -47.1323332285], [-22.9147044149, -47.1019238977], [-23.0013563074, -47.0997335578], [-23.0374265342, -47.0692110304], [-22.8690699496, -47.0191220705]], [[-22.9470157542, -47.0550038335], [-22.933919, -47.012652], [-22.8127633215, -47.0348906848], [-22.8422597453, -47.0524313985], [-22.8571341603, -47.1400801516]], [[-22.9216627517, -47.0662346628], [-22.9494584, -47.1459723], [-23.0440581274, -47.1037524878], [-22.9500830856, -47.1798180439], [-22.9507278043, -47.0717201606]], [[-22.8995216543, -47.0896783273], [-22.967529, -47.142844], [-23.0117954415, -47.0882252923], [-22.90876627, -47.08680255], [-22.9018363252, -47.1033091735], [-23.0310260134, -47.116034235], [-22.9125889073, -47.162390627], [-22.8577989453, -47.1430699974]], [[-22.8529836729, -47.1547231106], [-22.7897126782, -47.0311604647], [-22.7897126782, -47.0311604647], [-22.8363601242, -47.0342927703]], [[-22.8429709097, -47.0613847421], [-22.9858070766, -47.1102744767], [-22.8862935792, -47.0586840661], [-22.7955010492, -47.0361098693], [-22.8635983809, -47.1366980026], [-23.0296397717, -47.1221078924], [-22.9361762808, -47.0703737409], [-22.930349957, -47.188199173]], [[-22.8856877625, -47.1139883618], [-22.9098835863, -47.057117999], [-22.9739794325, -47.1695741202], [-22.8232652605, -47.0962436209], [-22.9444219579, -47.1484775396], [-22.8453100385, -47.0761157996], [-22.9555326921, -47.0593000629]], [[-22.8653429955, -47.1339106699], [-22.9629012317, -47.0946388437], [-22.8684588569, -47.1307893556]], [[-22.9106584643, -47.169829735], [-22.9443374659, -47.06567831], [-22.9149026933, -47.0639248866]], [[-22.8694549334, -47.018894373], [-22.8699169249, -47.1291343427], [-22.9193937056, -47.1100760541], [-22.9158372474, -47.0117877252], [-22.9018261111, -47.1089327]], [[-22.9880422208, -47.1112159356], [-22.9688812675, -47.16621867], [-22.8550363157, -47.1300514887]], [[-22.960949076, -47.1270750226], [-22.9547382369, -47.0813419827], [-23.0451438058, -47.1366889634]], [[-22.9062859147, -47.0657585188], [-22.9745816503, -47.128307264]], [[-22.9354937117, -47.095130796]]],\n",
              "                {heatmapOptions: {\n",
              "                        radius: 20,\n",
              "                        blur: 0.8,\n",
              "                        minOpacity: 0,\n",
              "                        maxOpacity: 0.65,\n",
              "                        scaleRadius: false,\n",
              "                        useLocalExtrema: true,\n",
              "                        defaultWeight: 1,\n",
              "                        \n",
              "                    }\n",
              "                });\n",
              "\n",
              "        \n",
              "    \n",
              "            heat_map_d45d3b21e7002067854fc727b02ff888.addTo(map_ba3b933f8b1358da5f2352319beabdbf);\n",
              "        \n",
              "    \n",
              "            tile_layer_2791706d009b2e5e6fae7c1f1587eea3.addTo(map_ba3b933f8b1358da5f2352319beabdbf);\n",
              "        \n",
              "    \n",
              "            heat_map_d45d3b21e7002067854fc727b02ff888.addTo(map_ba3b933f8b1358da5f2352319beabdbf);\n",
              "        \n",
              "&lt;/script&gt;\n",
              "&lt;/html&gt;\" style=\"position:absolute;width:100%;height:100%;left:0;top:0;border:none !important;\" allowfullscreen webkitallowfullscreen mozallowfullscreen></iframe></div></div>"
            ]
          },
          "metadata": {},
          "execution_count": 38
        }
      ],
      "id": "o1c0h1CJ0XJu"
    },
    {
      "cell_type": "markdown",
      "source": [
        "**🗺️ Como usar o mapa interativo**\n",
        "\n",
        "Este mapa apresenta a **distribuição espaço-temporal de sinistros envolvendo motocicletas** no município de Campinas, com base nos dados do Infosiga.\n",
        "\n",
        "**🔧 Funcionalidades principais:**\n",
        "\n",
        "* **Controle temporal (barra inferior)**:\n",
        "  Permite navegar entre os meses do período analisado (2022–2025). Use os botões ▶️⏸️ para iniciar ou pausar a animação, ou arraste manualmente o controle para visualizar um mês específico.\n",
        "\n",
        "* **Zoom e movimentação**:\n",
        "  Use o scroll do mouse ou os botões de `+` e `–` no canto superior esquerdo para dar zoom. Você também pode clicar e arrastar o mapa para explorar diferentes regiões da cidade.\n",
        "\n",
        "* **Densidade por cores**:\n",
        "  As cores mais **intensas (vermelho/roxo)** indicam maior concentração de sinistros naquele local e mês. Cores mais **leves (amarelo/verde)** indicam menor concentração.\n",
        "\n",
        "> 💡 Dica: ao visualizar diferentes meses, observe padrões de concentração em determinadas vias ou bairros. Isso pode indicar recorrência de riscos em pontos específicos ao longo do tempo.\n",
        "\n",
        "---"
      ],
      "metadata": {
        "id": "SzYecxqDQ-h3"
      },
      "id": "SzYecxqDQ-h3"
    }
  ],
  "metadata": {
    "colab": {
      "provenance": [],
      "toc_visible": true
    },
    "language_info": {
      "name": "python"
    },
    "kernelspec": {
      "name": "python3",
      "display_name": "Python 3"
    }
  },
  "nbformat": 4,
  "nbformat_minor": 5
}